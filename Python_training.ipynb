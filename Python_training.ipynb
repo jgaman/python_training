{
  "nbformat": 4,
  "nbformat_minor": 0,
  "metadata": {
    "colab": {
      "name": "Python_training.ipynb",
      "provenance": [],
      "authorship_tag": "ABX9TyMk6zge2m0B4rVuHpw/lvyc",
      "include_colab_link": true
    },
    "kernelspec": {
      "name": "python3",
      "display_name": "Python 3"
    }
  },
  "cells": [
    {
      "cell_type": "markdown",
      "metadata": {
        "id": "view-in-github",
        "colab_type": "text"
      },
      "source": [
        "<a href=\"https://colab.research.google.com/github/jgaman/python_training/blob/main/Python_training.ipynb\" target=\"_parent\"><img src=\"https://colab.research.google.com/assets/colab-badge.svg\" alt=\"Open In Colab\"/></a>"
      ]
    },
    {
      "cell_type": "code",
      "metadata": {
        "id": "ZKgBaaX073tv"
      },
      "source": [
        ""
      ],
      "execution_count": null,
      "outputs": []
    },
    {
      "cell_type": "markdown",
      "metadata": {
        "id": "JmipvnrR75ev"
      },
      "source": [
        "**Ce notebook contient tous mes exercices pendant le bootcamp CodingNomad**"
      ]
    },
    {
      "cell_type": "code",
      "metadata": {
        "colab": {
          "base_uri": "https://localhost:8080/"
        },
        "id": "JorQa9Ky8qzV",
        "outputId": "6c496642-a1d9-4777-f227-9a9db46b4a0e"
      },
      "source": [
        "#litle game with conditions\r\n",
        "\r\n",
        "import random \r\n",
        "num = random.randint(1, 10)\r\n",
        "guess = None\r\n",
        "\r\n",
        "while guess != num:\r\n",
        "  guess = input(\"guess a number between 1and 10: \")\r\n",
        "  guess = int(guess)\r\n",
        "  if guess == num:\r\n",
        "    print(\"congratulatons! you won!\")\r\n",
        "    break\r\n",
        "  else:\r\n",
        "    print(\"nope, sorry, try again!\")\r\n",
        "\r\n"
      ],
      "execution_count": 1,
      "outputs": [
        {
          "output_type": "stream",
          "text": [
            "guess a number between 1and 10: 5\n",
            "nope, sorry, try again!\n",
            "guess a number between 1and 10: 6\n",
            "nope, sorry, try again!\n",
            "guess a number between 1and 10: 3\n",
            "nope, sorry, try again!\n",
            "guess a number between 1and 10: 2\n",
            "congratulatons! you won!\n"
          ],
          "name": "stdout"
        }
      ]
    }
  ]
}